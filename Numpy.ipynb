{
 "cells": [
  {
   "cell_type": "code",
   "execution_count": 1,
   "id": "953e867b",
   "metadata": {},
   "outputs": [
    {
     "name": "stdout",
     "output_type": "stream",
     "text": [
      "Hello Wolrd!\n"
     ]
    }
   ],
   "source": [
    "print(\"Hello Wolrd!\")"
   ]
  },
  {
   "cell_type": "code",
   "execution_count": 2,
   "id": "02d69add",
   "metadata": {},
   "outputs": [],
   "source": [
    "import numpy as np"
   ]
  },
  {
   "cell_type": "code",
   "execution_count": 68,
   "id": "1b8d57ca",
   "metadata": {},
   "outputs": [],
   "source": [
    "# Creating Arrays\n",
    "a = np.array([[3,2], [3,6]])\n",
    "b = np.array([[1,2],[4,5]])"
   ]
  },
  {
   "cell_type": "code",
   "execution_count": 69,
   "id": "20e0b282",
   "metadata": {},
   "outputs": [
    {
     "name": "stdout",
     "output_type": "stream",
     "text": [
      "(2, 2)\n"
     ]
    }
   ],
   "source": [
    "print(a.shape) # dimension of array"
   ]
  },
  {
   "cell_type": "code",
   "execution_count": 70,
   "id": "19fd4f65",
   "metadata": {},
   "outputs": [
    {
     "data": {
      "text/plain": [
       "array([[1],\n",
       "       [2],\n",
       "       [4],\n",
       "       [5]])"
      ]
     },
     "execution_count": 70,
     "metadata": {},
     "output_type": "execute_result"
    }
   ],
   "source": [
    "b.reshape(4,1)"
   ]
  },
  {
   "cell_type": "code",
   "execution_count": 71,
   "id": "66c8128d",
   "metadata": {},
   "outputs": [
    {
     "name": "stdout",
     "output_type": "stream",
     "text": [
      "14\n",
      "3.0\n",
      "1.5\n"
     ]
    }
   ],
   "source": [
    "# Math Operations\n",
    "print(np.sum(a))\n",
    "print(np.mean(b))\n",
    "print(np.std(a)) "
   ]
  },
  {
   "cell_type": "code",
   "execution_count": 72,
   "id": "a002e448",
   "metadata": {},
   "outputs": [
    {
     "name": "stdout",
     "output_type": "stream",
     "text": [
      "[[ 4  4]\n",
      " [10  8]]\n"
     ]
    }
   ],
   "source": [
    "A = np.array([[1, 2], [3, 4]])\n",
    "B = np.array([[2, 0], [1, 2]])\n",
    "print(np.dot(A, B))      # Matrix multiplication"
   ]
  },
  {
   "cell_type": "code",
   "execution_count": 73,
   "id": "3f7f0f5b",
   "metadata": {},
   "outputs": [
    {
     "name": "stdout",
     "output_type": "stream",
     "text": [
      "2\n",
      "4\n"
     ]
    }
   ],
   "source": [
    "print(a.ndim) # not a function call\n",
    "#just an integer attribute of array\n",
    "print(a.size)"
   ]
  },
  {
   "cell_type": "code",
   "execution_count": 74,
   "id": "03cc1f16",
   "metadata": {},
   "outputs": [
    {
     "data": {
      "text/plain": [
       "array([40, 50, 60])"
      ]
     },
     "execution_count": 74,
     "metadata": {},
     "output_type": "execute_result"
    }
   ],
   "source": [
    "# Array Slicing\n",
    "arr = np.array([[10, 20, 30], [40, 50, 60]])\n",
    "arr[0, 2]                                 # 30\n",
    "arr[:, 1]                                 # Column 1 → [20, 50]\n",
    "arr[1, :]                                 # Row 1 → [40, 50, 60]"
   ]
  },
  {
   "cell_type": "code",
   "execution_count": 75,
   "id": "9afba00f",
   "metadata": {},
   "outputs": [
    {
     "name": "stdout",
     "output_type": "stream",
     "text": [
      "[[ 4  4]\n",
      " [ 7 11]]\n",
      "[[ 9  4]\n",
      " [ 9 36]]\n"
     ]
    },
    {
     "data": {
      "text/plain": [
       "array([[1.        , 1.41421356],\n",
       "       [2.        , 2.23606798]])"
      ]
     },
     "execution_count": 75,
     "metadata": {},
     "output_type": "execute_result"
    }
   ],
   "source": [
    "# Arithmetic operation\n",
    "print(a+b)\n",
    "print(a**2)\n",
    "np.sqrt(b)"
   ]
  },
  {
   "cell_type": "code",
   "execution_count": 76,
   "id": "eddf0c1d",
   "metadata": {},
   "outputs": [
    {
     "name": "stdout",
     "output_type": "stream",
     "text": [
      "3.5\n",
      "3.0\n",
      "1.5\n",
      "2.25\n",
      "14\n",
      "2\n",
      "6\n",
      "3.75\n"
     ]
    }
   ],
   "source": [
    "# Aggregate Function\n",
    "print(np.mean(a))                                # Mean\n",
    "print(np.median(a))                              # Median\n",
    "print(np.std(a))                                 # Standard deviation\n",
    "print(np.var(a))                                 # Variance\n",
    "print(np.sum(a))                                 # Sum\n",
    "print(np.min(a))\n",
    "print(np.max(a))                      # Min and Max\n",
    "print(np.percentile(a, 75))                      # 75th percentile\n"
   ]
  },
  {
   "cell_type": "code",
   "execution_count": 77,
   "id": "b5eab14f",
   "metadata": {},
   "outputs": [],
   "source": [
    "A = np.array([[1,2,3],[5,6,7],[15,6,7]])\n",
    "B = np.array([[11,12,13],[14,15,16],[5,6,7]])"
   ]
  },
  {
   "cell_type": "code",
   "execution_count": 78,
   "id": "5eb167f1",
   "metadata": {},
   "outputs": [
    {
     "name": "stdout",
     "output_type": "stream",
     "text": [
      "[[ 54  60  66]\n",
      " [174 192 210]\n",
      " [284 312 340]]\n",
      "[[ 54  60  66]\n",
      " [174 192 210]\n",
      " [284 312 340]]\n",
      "[[ 1  5 15]\n",
      " [ 2  6  6]\n",
      " [ 3  7  7]]\n",
      "[[ 0.   -0.1   0.1 ]\n",
      " [-1.75  0.95 -0.2 ]\n",
      " [ 1.5  -0.6   0.1 ]]\n",
      "EigResult(eigenvalues=array([16.41076916, -3.17778814,  0.76701899]), eigenvectors=array([[-0.22679774, -0.3924156 ,  0.10562372],\n",
      "       [-0.6161052 , -0.41303629, -0.83116235],\n",
      "       [-0.75430575,  0.82183394,  0.54590546]]))\n",
      "-1.5987211554602308e-14\n"
     ]
    }
   ],
   "source": [
    "# Matrix Operations\n",
    "print(np.dot(A, B))\n",
    "print(A@B) # works same as dot product, just another operator\n",
    "print(np.transpose(A))\n",
    "print(np.linalg.inv(A))\n",
    "print(np.linalg.eig(A))\n",
    "print(np.linalg.det(B))"
   ]
  },
  {
   "cell_type": "code",
   "execution_count": 79,
   "id": "5ac881f0",
   "metadata": {},
   "outputs": [
    {
     "name": "stdout",
     "output_type": "stream",
     "text": [
      "[False False False  True]\n",
      "2.0\n"
     ]
    },
    {
     "data": {
      "text/plain": [
       "array([1., 2., 3.])"
      ]
     },
     "execution_count": 79,
     "metadata": {},
     "output_type": "execute_result"
    }
   ],
   "source": [
    "# Handling Missing or Invalid Data\n",
    "arr = np.array([1,2,3,np.nan])\n",
    "print(np.isnan(arr))\n",
    "print(np.nanmean(arr)) # mean ignoring nan\n",
    "arr[~np.isnan(arr)] #Array without nan"
   ]
  },
  {
   "cell_type": "markdown",
   "id": "fb2ef7bd",
   "metadata": {},
   "source": [
    "## 🎯 `np.random.seed(0)` – What Does It Do?\n",
    "\n",
    "`np.random.seed(0)` sets the **starting point** for NumPy's random number generator, so you get the **same random numbers every time** you run your code.\n",
    "\n",
    "---\n",
    "\n",
    "### 🔍 Why Use It?\n",
    "\n",
    "In ML and data science, **reproducibility** is important. When you:\n",
    "\n",
    "* Split data randomly\n",
    "* Shuffle a dataset\n",
    "* Generate random weights\n",
    "\n",
    "...you may want to reproduce the **same results** every time (especially for debugging or sharing results).\n",
    "\n",
    "---\n",
    "\n",
    "### 🧪 Example Without `seed`:\n",
    "\n",
    "```python\n",
    "import numpy as np\n",
    "\n",
    "print(np.random.rand(3))\n",
    "# Output: Different every time\n",
    "```\n",
    "\n",
    "### 🧪 Example With `np.random.seed(0)`:\n",
    "\n",
    "```python\n",
    "import numpy as np\n",
    "\n",
    "np.random.seed(0)\n",
    "print(np.random.rand(3))\n",
    "# Output: [0.5488135  0.71518937 0.60276338]\n",
    "```\n",
    "\n",
    "Even if you run this 100 times, the output is the **same**.\n",
    "\n",
    "---\n",
    "\n",
    "### ⚠️ Notes:\n",
    "\n",
    "* You can use **any number** as the seed (`np.random.seed(42)` is common).\n",
    "* Use it **once** at the beginning of your code—not before every random operation.\n",
    "* It doesn’t affect `random` module in Python or other libraries like `torch`.\n",
    "\n",
    "---\n",
    "\n",
    "### ✅ In ML Code:\n",
    "\n",
    "```python\n",
    "np.random.seed(0)\n",
    "X = np.random.rand(100, 5)  # Always same features\n"
   ]
  },
  {
   "cell_type": "code",
   "execution_count": 80,
   "id": "571a17b4",
   "metadata": {},
   "outputs": [],
   "source": [
    "np.random.seed(0)"
   ]
  },
  {
   "cell_type": "markdown",
   "id": "336288e6",
   "metadata": {},
   "source": [
    "## 📘 `np.random.randint(1, 10, size=(2, 2))`\n",
    "\n",
    "This function generates a **2x2 NumPy array** of **random integers** between 1 (inclusive) and 10 (exclusive).\n",
    "\n",
    "---\n",
    "\n",
    "### 🧩 Function Signature:\n",
    "\n",
    "```python\n",
    "np.random.randint(low, high=None, size=None, dtype=int)\n",
    "```\n",
    "\n",
    "---\n",
    "\n",
    "### 🔍 Parameter Breakdown:\n",
    "\n",
    "| Parameter | Description                                                                                   |\n",
    "| --------- | --------------------------------------------------------------------------------------------- |\n",
    "| `low`     | **Lower bound (inclusive)** — the smallest integer that can appear in the output              |\n",
    "| `high`    | **Upper bound (exclusive)** — the largest number the output can go up to, **but not include** |\n",
    "| `size`    | Shape of the output array — `(rows, columns)`                                                 |\n",
    "| `dtype`   | Data type of output, default is `int`                                                         |\n",
    "\n",
    "---\n",
    "\n",
    "### 💡 Examples:\n",
    "\n",
    "```python\n",
    "np.random.randint(0, 5, size=4)\n",
    "# Output: 1D array with 4 random numbers from 0 to 4\n",
    "\n",
    "np.random.randint(10, size=(3, 1))\n",
    "# Output: 3x1 array with numbers from 0 to 9\n",
    "```\n",
    "\n",
    "If you only pass **one number**, it becomes the **high**, and `low` defaults to 0:\n",
    "\n",
    "```python\n",
    "np.random.randint(5)  # Same as np.random.randint(0, 5)"
   ]
  },
  {
   "cell_type": "code",
   "execution_count": 81,
   "id": "14a5f94a",
   "metadata": {},
   "outputs": [
    {
     "name": "stdout",
     "output_type": "stream",
     "text": [
      "[0.5488135  0.71518937]\n",
      "[[[0.60276338 0.54488318 0.4236548  0.64589411]\n",
      "  [0.43758721 0.891773   0.96366276 0.38344152]\n",
      "  [0.79172504 0.52889492 0.56804456 0.92559664]]\n",
      "\n",
      " [[0.07103606 0.0871293  0.0202184  0.83261985]\n",
      "  [0.77815675 0.87001215 0.97861834 0.79915856]\n",
      "  [0.46147936 0.78052918 0.11827443 0.63992102]]]\n",
      "[-2.55298982  0.6536186   0.8644362  -0.74216502  2.26975462 -1.45436567\n",
      "  0.04575852 -0.18718385  1.53277921  1.46935877  0.15494743  0.37816252\n",
      " -0.88778575 -1.98079647 -0.34791215  0.15634897  1.23029068  1.20237985\n",
      " -0.38732682 -0.30230275 -1.04855297 -1.42001794 -1.70627019  1.9507754\n",
      " -0.50965218 -0.4380743  -1.25279536  0.77749036 -1.61389785 -0.21274028\n",
      " -0.89546656  0.3869025  -0.51080514 -1.18063218 -0.02818223  0.42833187\n",
      "  0.06651722  0.3024719  -0.63432209 -0.36274117 -0.67246045 -0.35955316\n",
      " -0.81314628 -1.7262826   0.17742614 -0.40178094 -1.63019835  0.46278226\n",
      " -0.90729836  0.0519454   0.72909056  0.12898291  1.13940068 -1.23482582\n",
      "  0.40234164 -0.68481009 -0.87079715 -0.57884966 -0.31155253  0.05616534\n",
      " -1.16514984  0.90082649  0.46566244 -1.53624369  1.48825219  1.89588918\n",
      "  1.17877957 -0.17992484 -1.07075262  1.05445173 -0.40317695  1.22244507\n",
      "  0.20827498  0.97663904  0.3563664   0.70657317  0.01050002  1.78587049\n",
      "  0.12691209  0.40198936  1.8831507  -1.34775906 -1.270485    0.96939671\n",
      " -1.17312341  1.94362119 -0.41361898 -0.74745481  1.92294203  1.48051479\n",
      "  1.86755896  0.90604466 -0.86122569  1.91006495 -0.26800337  0.8024564\n",
      "  0.94725197 -0.15501009  0.61407937  0.92220667]\n",
      "[[3 6 3 7 5 9 6]\n",
      " [8 8 7 3 5 6 6]\n",
      " [4 8 6 9 7 8 8]\n",
      " [6 6 4 4 4 6 9]\n",
      " [5 5 7 6 4 5 6]\n",
      " [8 8 8 4 7 5 5]]\n"
     ]
    }
   ],
   "source": [
    "print(np.random.rand(2)) #if we run this just after np.random.seed(0) then output is always same\n",
    "print(np.random.rand(2,3,4)) #else answer is always different\n",
    "print(np.random.randn(100)) #normal distribution of random numbers\n",
    "print(np.random.randint(3,10, size = (6,7)))"
   ]
  },
  {
   "cell_type": "markdown",
   "id": "67ea64a9",
   "metadata": {},
   "source": [
    "## 🔹 `np.clip(a, 0, 2)`\n",
    "\n",
    "### 🔧 Purpose:\n",
    "\n",
    "**Clip (limit)** the values in the array `a` so that:\n",
    "\n",
    "* Anything **less than 0** becomes 0\n",
    "* Anything **greater than 2** becomes 2\n",
    "* Values **in between remain unchanged**\n",
    "\n",
    "### 📘 Syntax:\n",
    "\n",
    "```python\n",
    "np.clip(array, min_value, max_value)\n",
    "```\n",
    "\n",
    "### 🧪 Example:\n",
    "\n",
    "```python\n",
    "import numpy as np\n",
    "\n",
    "a = np.array([-3, 0, 1, 2, 3, 5])\n",
    "np.clip(a, 0, 2)\n",
    "```\n",
    "\n",
    "🔽 Output:\n",
    "\n",
    "```python\n",
    "array([0, 0, 1, 2, 2, 2])\n",
    "```\n",
    "\n",
    "### ✅ Use Case:\n",
    "\n",
    "Useful for normalization, image pixel bounding (0–255), or keeping outputs within a range.\n",
    "\n",
    "---\n",
    "\n",
    "## 🔹 `np.where(a > 1, 1, 0)`\n",
    "\n",
    "### 🔧 Purpose:\n",
    "\n",
    "Conditional replacement in array `a`.\n",
    "\n",
    "### 📘 Syntax:\n",
    "\n",
    "```python\n",
    "np.where(condition, value_if_true, value_if_false)\n",
    "```\n",
    "\n",
    "### 🧪 Example:\n",
    "\n",
    "```python\n",
    "a = np.array([0, 1, 2, 3, 1])\n",
    "np.where(a > 1, 1, 0)\n",
    "```\n",
    "\n",
    "🔽 Output:\n",
    "\n",
    "```python\n",
    "array([0, 0, 1, 1, 0])\n",
    "```\n",
    "\n",
    "* For each element in `a`, if it's greater than 1 → replace with `1`\n",
    "* Else → replace with `0`\n",
    "\n",
    "### ✅ Use Case:\n",
    "\n",
    "* Binary encoding\n",
    "* Label transformation\n",
    "* Creating masks (like turning scores > threshold into 1)\n",
    "\n",
    "---\n",
    "\n",
    "### 🧠 Summary Table\n",
    "\n",
    "| Function              | Purpose                         | Example Output  |\n",
    "| --------------------- | ------------------------------- | --------------- |\n",
    "| `np.clip(a, 0, 2)`    | Limit values between 0 and 2    | `[0 0 1 2 2 2]` |\n",
    "| `np.where(a>1, 1, 0)` | Set values >1 to 1, others to 0 | `[0 0 1 1 0]`   |"
   ]
  },
  {
   "cell_type": "code",
   "execution_count": 82,
   "id": "65fef1a5",
   "metadata": {},
   "outputs": [
    {
     "name": "stdout",
     "output_type": "stream",
     "text": [
      "[1 2 3]\n",
      "[[2 3]\n",
      " [3 6]]\n",
      "[[1 0]\n",
      " [0 1]]\n",
      "[[2 2]\n",
      " [2 2]]\n",
      "[[1 1]\n",
      " [1 1]]\n"
     ]
    }
   ],
   "source": [
    "print(np.unique([1, 1, 2, 3]))                   # [1 2 3]\n",
    "print(np.sort(a))                              # Sort\n",
    "print(np.argsort(a))                             # Indices that would sort\n",
    "print(np.clip(a, 0, 2))                          # Force values between 0 and 2\n",
    "print(np.where(a > 1, 1, 0))                     # Conditional replacement"
   ]
  }
 ],
 "metadata": {
  "kernelspec": {
   "display_name": "Python 3 (ipykernel)",
   "language": "python",
   "name": "python3"
  },
  "language_info": {
   "codemirror_mode": {
    "name": "ipython",
    "version": 3
   },
   "file_extension": ".py",
   "mimetype": "text/x-python",
   "name": "python",
   "nbconvert_exporter": "python",
   "pygments_lexer": "ipython3",
   "version": "3.9.13"
  }
 },
 "nbformat": 4,
 "nbformat_minor": 5
}
